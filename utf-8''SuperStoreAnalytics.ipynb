{
  "cells": [
    {
      "metadata": {},
      "cell_type": "markdown",
      "source": "## Analytics"
    },
    {
      "metadata": {
        "trusted": true
      },
      "cell_type": "code",
      "source": "import pandas as pd\nimport numpy as np\nimport matplotlib.pyplot as plt\nimport seaborn as sns\nimport time\n\nfrom math import sqrt\nfrom numpy import loadtxt\nfrom itertools import product\nfrom tqdm import tqdm\nfrom sklearn import preprocessing\nfrom matplotlib import pyplot\n\nfrom sklearn import metrics \nfrom sklearn.model_selection import train_test_split\nfrom sklearn.metrics import accuracy_score\nfrom sklearn.metrics import mean_squared_error\nfrom sklearn.model_selection import train_test_split\nfrom sklearn.feature_extraction.text import TfidfVectorizer\nfrom sklearn.tree import DecisionTreeClassifier\nfrom sklearn.preprocessing import StandardScaler\nfrom sklearn import utils\n\nfrom sklearn.linear_model import LinearRegression\nfrom sklearn.model_selection import train_test_split\nfrom sklearn import linear_model",
      "execution_count": 1,
      "outputs": []
    },
    {
      "metadata": {
        "trusted": true
      },
      "cell_type": "code",
      "source": "data = pd.read_excel('Sample_Superstore_working.xlsx')\ndata.head()",
      "execution_count": 2,
      "outputs": [
        {
          "output_type": "execute_result",
          "execution_count": 2,
          "data": {
            "text/html": "<div>\n<style scoped>\n    .dataframe tbody tr th:only-of-type {\n        vertical-align: middle;\n    }\n\n    .dataframe tbody tr th {\n        vertical-align: top;\n    }\n\n    .dataframe thead th {\n        text-align: right;\n    }\n</style>\n<table border=\"1\" class=\"dataframe\">\n  <thead>\n    <tr style=\"text-align: right;\">\n      <th></th>\n      <th>Order ID</th>\n      <th>Order Date</th>\n      <th>Ship Date</th>\n      <th>Ship Mode</th>\n      <th>Customer Name</th>\n      <th>Segment</th>\n      <th>Country</th>\n      <th>City</th>\n      <th>State</th>\n      <th>Region</th>\n      <th>Category</th>\n      <th>Sub-Category</th>\n      <th>Sales</th>\n      <th>Quantity</th>\n      <th>Discount</th>\n      <th>Profit</th>\n    </tr>\n  </thead>\n  <tbody>\n    <tr>\n      <th>0</th>\n      <td>CA-2016-152156</td>\n      <td>2016-11-08</td>\n      <td>2016-11-11</td>\n      <td>Second Class</td>\n      <td>Claire Gute</td>\n      <td>Consumer</td>\n      <td>United States</td>\n      <td>Henderson</td>\n      <td>Kentucky</td>\n      <td>South</td>\n      <td>Furniture</td>\n      <td>Bookcases</td>\n      <td>261.9600</td>\n      <td>2</td>\n      <td>0.00</td>\n      <td>41.9136</td>\n    </tr>\n    <tr>\n      <th>1</th>\n      <td>CA-2016-152156</td>\n      <td>2016-11-08</td>\n      <td>2016-11-11</td>\n      <td>Second Class</td>\n      <td>Claire Gute</td>\n      <td>Consumer</td>\n      <td>United States</td>\n      <td>Henderson</td>\n      <td>Kentucky</td>\n      <td>South</td>\n      <td>Furniture</td>\n      <td>Chairs</td>\n      <td>731.9400</td>\n      <td>3</td>\n      <td>0.00</td>\n      <td>219.5820</td>\n    </tr>\n    <tr>\n      <th>2</th>\n      <td>CA-2016-138688</td>\n      <td>2016-06-12</td>\n      <td>2016-06-16</td>\n      <td>Second Class</td>\n      <td>Darrin Van Huff</td>\n      <td>Corporate</td>\n      <td>United States</td>\n      <td>Los Angeles</td>\n      <td>California</td>\n      <td>West</td>\n      <td>Office Supplies</td>\n      <td>Labels</td>\n      <td>14.6200</td>\n      <td>2</td>\n      <td>0.00</td>\n      <td>6.8714</td>\n    </tr>\n    <tr>\n      <th>3</th>\n      <td>US-2015-108966</td>\n      <td>2015-10-11</td>\n      <td>2015-10-18</td>\n      <td>Standard Class</td>\n      <td>Sean O'Donnell</td>\n      <td>Consumer</td>\n      <td>United States</td>\n      <td>Fort Lauderdale</td>\n      <td>Florida</td>\n      <td>South</td>\n      <td>Furniture</td>\n      <td>Tables</td>\n      <td>957.5775</td>\n      <td>5</td>\n      <td>0.45</td>\n      <td>-383.0310</td>\n    </tr>\n    <tr>\n      <th>4</th>\n      <td>US-2015-108966</td>\n      <td>2015-10-11</td>\n      <td>2015-10-18</td>\n      <td>Standard Class</td>\n      <td>Sean O'Donnell</td>\n      <td>Consumer</td>\n      <td>United States</td>\n      <td>Fort Lauderdale</td>\n      <td>Florida</td>\n      <td>South</td>\n      <td>Office Supplies</td>\n      <td>Storage</td>\n      <td>22.3680</td>\n      <td>2</td>\n      <td>0.20</td>\n      <td>2.5164</td>\n    </tr>\n  </tbody>\n</table>\n</div>",
            "text/plain": "         Order ID Order Date  Ship Date       Ship Mode    Customer Name  \\\n0  CA-2016-152156 2016-11-08 2016-11-11    Second Class      Claire Gute   \n1  CA-2016-152156 2016-11-08 2016-11-11    Second Class      Claire Gute   \n2  CA-2016-138688 2016-06-12 2016-06-16    Second Class  Darrin Van Huff   \n3  US-2015-108966 2015-10-11 2015-10-18  Standard Class   Sean O'Donnell   \n4  US-2015-108966 2015-10-11 2015-10-18  Standard Class   Sean O'Donnell   \n\n     Segment        Country             City       State Region  \\\n0   Consumer  United States        Henderson    Kentucky  South   \n1   Consumer  United States        Henderson    Kentucky  South   \n2  Corporate  United States      Los Angeles  California   West   \n3   Consumer  United States  Fort Lauderdale     Florida  South   \n4   Consumer  United States  Fort Lauderdale     Florida  South   \n\n          Category Sub-Category     Sales  Quantity  Discount    Profit  \n0        Furniture    Bookcases  261.9600         2      0.00   41.9136  \n1        Furniture       Chairs  731.9400         3      0.00  219.5820  \n2  Office Supplies       Labels   14.6200         2      0.00    6.8714  \n3        Furniture       Tables  957.5775         5      0.45 -383.0310  \n4  Office Supplies      Storage   22.3680         2      0.20    2.5164  "
          },
          "metadata": {}
        }
      ]
    },
    {
      "metadata": {},
      "cell_type": "markdown",
      "source": "### Explatorary Data Analysis"
    },
    {
      "metadata": {},
      "cell_type": "markdown",
      "source": "Explore the data types"
    },
    {
      "metadata": {},
      "cell_type": "markdown",
      "source": "We have a mix of numeric and categorical data"
    },
    {
      "metadata": {
        "trusted": true,
        "scrolled": true
      },
      "cell_type": "code",
      "source": "data.dtypes",
      "execution_count": 3,
      "outputs": [
        {
          "output_type": "execute_result",
          "execution_count": 3,
          "data": {
            "text/plain": "Order ID                 object\nOrder Date       datetime64[ns]\nShip Date        datetime64[ns]\nShip Mode                object\nCustomer Name            object\nSegment                  object\nCountry                  object\nCity                     object\nState                    object\nRegion                   object\nCategory                 object\nSub-Category             object\nSales                   float64\nQuantity                  int64\nDiscount                float64\nProfit                  float64\ndtype: object"
          },
          "metadata": {}
        }
      ]
    },
    {
      "metadata": {},
      "cell_type": "markdown",
      "source": "Find Nulls in Data"
    },
    {
      "metadata": {
        "trusted": true
      },
      "cell_type": "code",
      "source": "data.isnull().sum()",
      "execution_count": 4,
      "outputs": [
        {
          "output_type": "execute_result",
          "execution_count": 4,
          "data": {
            "text/plain": "Order ID         0\nOrder Date       0\nShip Date        0\nShip Mode        0\nCustomer Name    0\nSegment          0\nCountry          0\nCity             0\nState            0\nRegion           0\nCategory         0\nSub-Category     0\nSales            0\nQuantity         0\nDiscount         0\nProfit           0\ndtype: int64"
          },
          "metadata": {}
        }
      ]
    },
    {
      "metadata": {},
      "cell_type": "markdown",
      "source": "Describe the data"
    },
    {
      "metadata": {
        "trusted": true
      },
      "cell_type": "code",
      "source": "data.describe(include = 'all')",
      "execution_count": 5,
      "outputs": [
        {
          "output_type": "execute_result",
          "execution_count": 5,
          "data": {
            "text/html": "<div>\n<style scoped>\n    .dataframe tbody tr th:only-of-type {\n        vertical-align: middle;\n    }\n\n    .dataframe tbody tr th {\n        vertical-align: top;\n    }\n\n    .dataframe thead th {\n        text-align: right;\n    }\n</style>\n<table border=\"1\" class=\"dataframe\">\n  <thead>\n    <tr style=\"text-align: right;\">\n      <th></th>\n      <th>Order ID</th>\n      <th>Order Date</th>\n      <th>Ship Date</th>\n      <th>Ship Mode</th>\n      <th>Customer Name</th>\n      <th>Segment</th>\n      <th>Country</th>\n      <th>City</th>\n      <th>State</th>\n      <th>Region</th>\n      <th>Category</th>\n      <th>Sub-Category</th>\n      <th>Sales</th>\n      <th>Quantity</th>\n      <th>Discount</th>\n      <th>Profit</th>\n    </tr>\n  </thead>\n  <tbody>\n    <tr>\n      <th>count</th>\n      <td>9994</td>\n      <td>9994</td>\n      <td>9994</td>\n      <td>9994</td>\n      <td>9994</td>\n      <td>9994</td>\n      <td>9994</td>\n      <td>9994</td>\n      <td>9994</td>\n      <td>9994</td>\n      <td>9994</td>\n      <td>9994</td>\n      <td>9994.000000</td>\n      <td>9994.000000</td>\n      <td>9994.000000</td>\n      <td>9994.000000</td>\n    </tr>\n    <tr>\n      <th>unique</th>\n      <td>5009</td>\n      <td>1237</td>\n      <td>1334</td>\n      <td>4</td>\n      <td>793</td>\n      <td>3</td>\n      <td>1</td>\n      <td>531</td>\n      <td>49</td>\n      <td>4</td>\n      <td>3</td>\n      <td>17</td>\n      <td>NaN</td>\n      <td>NaN</td>\n      <td>NaN</td>\n      <td>NaN</td>\n    </tr>\n    <tr>\n      <th>top</th>\n      <td>CA-2017-100111</td>\n      <td>2016-09-05 00:00:00</td>\n      <td>2015-12-16 00:00:00</td>\n      <td>Standard Class</td>\n      <td>William Brown</td>\n      <td>Consumer</td>\n      <td>United States</td>\n      <td>New York City</td>\n      <td>California</td>\n      <td>West</td>\n      <td>Office Supplies</td>\n      <td>Binders</td>\n      <td>NaN</td>\n      <td>NaN</td>\n      <td>NaN</td>\n      <td>NaN</td>\n    </tr>\n    <tr>\n      <th>freq</th>\n      <td>14</td>\n      <td>38</td>\n      <td>35</td>\n      <td>5968</td>\n      <td>37</td>\n      <td>5191</td>\n      <td>9994</td>\n      <td>915</td>\n      <td>2001</td>\n      <td>3203</td>\n      <td>6026</td>\n      <td>1523</td>\n      <td>NaN</td>\n      <td>NaN</td>\n      <td>NaN</td>\n      <td>NaN</td>\n    </tr>\n    <tr>\n      <th>first</th>\n      <td>NaN</td>\n      <td>2014-01-03 00:00:00</td>\n      <td>2014-01-07 00:00:00</td>\n      <td>NaN</td>\n      <td>NaN</td>\n      <td>NaN</td>\n      <td>NaN</td>\n      <td>NaN</td>\n      <td>NaN</td>\n      <td>NaN</td>\n      <td>NaN</td>\n      <td>NaN</td>\n      <td>NaN</td>\n      <td>NaN</td>\n      <td>NaN</td>\n      <td>NaN</td>\n    </tr>\n    <tr>\n      <th>last</th>\n      <td>NaN</td>\n      <td>2017-12-30 00:00:00</td>\n      <td>2018-01-05 00:00:00</td>\n      <td>NaN</td>\n      <td>NaN</td>\n      <td>NaN</td>\n      <td>NaN</td>\n      <td>NaN</td>\n      <td>NaN</td>\n      <td>NaN</td>\n      <td>NaN</td>\n      <td>NaN</td>\n      <td>NaN</td>\n      <td>NaN</td>\n      <td>NaN</td>\n      <td>NaN</td>\n    </tr>\n    <tr>\n      <th>mean</th>\n      <td>NaN</td>\n      <td>NaN</td>\n      <td>NaN</td>\n      <td>NaN</td>\n      <td>NaN</td>\n      <td>NaN</td>\n      <td>NaN</td>\n      <td>NaN</td>\n      <td>NaN</td>\n      <td>NaN</td>\n      <td>NaN</td>\n      <td>NaN</td>\n      <td>229.858001</td>\n      <td>3.789574</td>\n      <td>0.156203</td>\n      <td>28.656896</td>\n    </tr>\n    <tr>\n      <th>std</th>\n      <td>NaN</td>\n      <td>NaN</td>\n      <td>NaN</td>\n      <td>NaN</td>\n      <td>NaN</td>\n      <td>NaN</td>\n      <td>NaN</td>\n      <td>NaN</td>\n      <td>NaN</td>\n      <td>NaN</td>\n      <td>NaN</td>\n      <td>NaN</td>\n      <td>623.245101</td>\n      <td>2.225110</td>\n      <td>0.206452</td>\n      <td>234.260108</td>\n    </tr>\n    <tr>\n      <th>min</th>\n      <td>NaN</td>\n      <td>NaN</td>\n      <td>NaN</td>\n      <td>NaN</td>\n      <td>NaN</td>\n      <td>NaN</td>\n      <td>NaN</td>\n      <td>NaN</td>\n      <td>NaN</td>\n      <td>NaN</td>\n      <td>NaN</td>\n      <td>NaN</td>\n      <td>0.444000</td>\n      <td>1.000000</td>\n      <td>0.000000</td>\n      <td>-6599.978000</td>\n    </tr>\n    <tr>\n      <th>25%</th>\n      <td>NaN</td>\n      <td>NaN</td>\n      <td>NaN</td>\n      <td>NaN</td>\n      <td>NaN</td>\n      <td>NaN</td>\n      <td>NaN</td>\n      <td>NaN</td>\n      <td>NaN</td>\n      <td>NaN</td>\n      <td>NaN</td>\n      <td>NaN</td>\n      <td>17.280000</td>\n      <td>2.000000</td>\n      <td>0.000000</td>\n      <td>1.728750</td>\n    </tr>\n    <tr>\n      <th>50%</th>\n      <td>NaN</td>\n      <td>NaN</td>\n      <td>NaN</td>\n      <td>NaN</td>\n      <td>NaN</td>\n      <td>NaN</td>\n      <td>NaN</td>\n      <td>NaN</td>\n      <td>NaN</td>\n      <td>NaN</td>\n      <td>NaN</td>\n      <td>NaN</td>\n      <td>54.490000</td>\n      <td>3.000000</td>\n      <td>0.200000</td>\n      <td>8.666500</td>\n    </tr>\n    <tr>\n      <th>75%</th>\n      <td>NaN</td>\n      <td>NaN</td>\n      <td>NaN</td>\n      <td>NaN</td>\n      <td>NaN</td>\n      <td>NaN</td>\n      <td>NaN</td>\n      <td>NaN</td>\n      <td>NaN</td>\n      <td>NaN</td>\n      <td>NaN</td>\n      <td>NaN</td>\n      <td>209.940000</td>\n      <td>5.000000</td>\n      <td>0.200000</td>\n      <td>29.364000</td>\n    </tr>\n    <tr>\n      <th>max</th>\n      <td>NaN</td>\n      <td>NaN</td>\n      <td>NaN</td>\n      <td>NaN</td>\n      <td>NaN</td>\n      <td>NaN</td>\n      <td>NaN</td>\n      <td>NaN</td>\n      <td>NaN</td>\n      <td>NaN</td>\n      <td>NaN</td>\n      <td>NaN</td>\n      <td>22638.480000</td>\n      <td>14.000000</td>\n      <td>0.800000</td>\n      <td>8399.976000</td>\n    </tr>\n  </tbody>\n</table>\n</div>",
            "text/plain": "              Order ID           Order Date            Ship Date  \\\ncount             9994                 9994                 9994   \nunique            5009                 1237                 1334   \ntop     CA-2017-100111  2016-09-05 00:00:00  2015-12-16 00:00:00   \nfreq                14                   38                   35   \nfirst              NaN  2014-01-03 00:00:00  2014-01-07 00:00:00   \nlast               NaN  2017-12-30 00:00:00  2018-01-05 00:00:00   \nmean               NaN                  NaN                  NaN   \nstd                NaN                  NaN                  NaN   \nmin                NaN                  NaN                  NaN   \n25%                NaN                  NaN                  NaN   \n50%                NaN                  NaN                  NaN   \n75%                NaN                  NaN                  NaN   \nmax                NaN                  NaN                  NaN   \n\n             Ship Mode  Customer Name   Segment        Country           City  \\\ncount             9994           9994      9994           9994           9994   \nunique               4            793         3              1            531   \ntop     Standard Class  William Brown  Consumer  United States  New York City   \nfreq              5968             37      5191           9994            915   \nfirst              NaN            NaN       NaN            NaN            NaN   \nlast               NaN            NaN       NaN            NaN            NaN   \nmean               NaN            NaN       NaN            NaN            NaN   \nstd                NaN            NaN       NaN            NaN            NaN   \nmin                NaN            NaN       NaN            NaN            NaN   \n25%                NaN            NaN       NaN            NaN            NaN   \n50%                NaN            NaN       NaN            NaN            NaN   \n75%                NaN            NaN       NaN            NaN            NaN   \nmax                NaN            NaN       NaN            NaN            NaN   \n\n             State Region         Category Sub-Category         Sales  \\\ncount         9994   9994             9994         9994   9994.000000   \nunique          49      4                3           17           NaN   \ntop     California   West  Office Supplies      Binders           NaN   \nfreq          2001   3203             6026         1523           NaN   \nfirst          NaN    NaN              NaN          NaN           NaN   \nlast           NaN    NaN              NaN          NaN           NaN   \nmean           NaN    NaN              NaN          NaN    229.858001   \nstd            NaN    NaN              NaN          NaN    623.245101   \nmin            NaN    NaN              NaN          NaN      0.444000   \n25%            NaN    NaN              NaN          NaN     17.280000   \n50%            NaN    NaN              NaN          NaN     54.490000   \n75%            NaN    NaN              NaN          NaN    209.940000   \nmax            NaN    NaN              NaN          NaN  22638.480000   \n\n           Quantity     Discount       Profit  \ncount   9994.000000  9994.000000  9994.000000  \nunique          NaN          NaN          NaN  \ntop             NaN          NaN          NaN  \nfreq            NaN          NaN          NaN  \nfirst           NaN          NaN          NaN  \nlast            NaN          NaN          NaN  \nmean       3.789574     0.156203    28.656896  \nstd        2.225110     0.206452   234.260108  \nmin        1.000000     0.000000 -6599.978000  \n25%        2.000000     0.000000     1.728750  \n50%        3.000000     0.200000     8.666500  \n75%        5.000000     0.200000    29.364000  \nmax       14.000000     0.800000  8399.976000  "
          },
          "metadata": {}
        }
      ]
    },
    {
      "metadata": {},
      "cell_type": "markdown",
      "source": "Understand the shape"
    },
    {
      "metadata": {
        "trusted": true
      },
      "cell_type": "code",
      "source": "data.shape",
      "execution_count": 6,
      "outputs": [
        {
          "output_type": "execute_result",
          "execution_count": 6,
          "data": {
            "text/plain": "(9994, 16)"
          },
          "metadata": {}
        }
      ]
    },
    {
      "metadata": {},
      "cell_type": "markdown",
      "source": "### Linear Regression Model"
    },
    {
      "metadata": {},
      "cell_type": "markdown",
      "source": "#### Feature Selection"
    },
    {
      "metadata": {
        "trusted": true
      },
      "cell_type": "code",
      "source": "feature = data[['Sales', 'Quantity']] # the X\ntarget = data['Profit'] # the Y",
      "execution_count": 7,
      "outputs": []
    },
    {
      "metadata": {
        "trusted": true
      },
      "cell_type": "code",
      "source": "X = feature\ny = target",
      "execution_count": 8,
      "outputs": []
    },
    {
      "metadata": {
        "trusted": true
      },
      "cell_type": "code",
      "source": "X_train, X_test, y_train, y_test = train_test_split(X, y, test_size=0.3, random_state=1)",
      "execution_count": 9,
      "outputs": []
    },
    {
      "metadata": {
        "trusted": true
      },
      "cell_type": "code",
      "source": "X_train.head()",
      "execution_count": 10,
      "outputs": [
        {
          "output_type": "execute_result",
          "execution_count": 10,
          "data": {
            "text/html": "<div>\n<style scoped>\n    .dataframe tbody tr th:only-of-type {\n        vertical-align: middle;\n    }\n\n    .dataframe tbody tr th {\n        vertical-align: top;\n    }\n\n    .dataframe thead th {\n        text-align: right;\n    }\n</style>\n<table border=\"1\" class=\"dataframe\">\n  <thead>\n    <tr style=\"text-align: right;\">\n      <th></th>\n      <th>Sales</th>\n      <th>Quantity</th>\n    </tr>\n  </thead>\n  <tbody>\n    <tr>\n      <th>1963</th>\n      <td>24.900</td>\n      <td>5</td>\n    </tr>\n    <tr>\n      <th>9348</th>\n      <td>842.720</td>\n      <td>8</td>\n    </tr>\n    <tr>\n      <th>8795</th>\n      <td>211.168</td>\n      <td>4</td>\n    </tr>\n    <tr>\n      <th>9389</th>\n      <td>2.040</td>\n      <td>1</td>\n    </tr>\n    <tr>\n      <th>5090</th>\n      <td>8.784</td>\n      <td>1</td>\n    </tr>\n  </tbody>\n</table>\n</div>",
            "text/plain": "        Sales  Quantity\n1963   24.900         5\n9348  842.720         8\n8795  211.168         4\n9389    2.040         1\n5090    8.784         1"
          },
          "metadata": {}
        }
      ]
    },
    {
      "metadata": {
        "trusted": true
      },
      "cell_type": "code",
      "source": "X_test.head()",
      "execution_count": 11,
      "outputs": [
        {
          "output_type": "execute_result",
          "execution_count": 11,
          "data": {
            "text/html": "<div>\n<style scoped>\n    .dataframe tbody tr th:only-of-type {\n        vertical-align: middle;\n    }\n\n    .dataframe tbody tr th {\n        vertical-align: top;\n    }\n\n    .dataframe thead th {\n        text-align: right;\n    }\n</style>\n<table border=\"1\" class=\"dataframe\">\n  <thead>\n    <tr style=\"text-align: right;\">\n      <th></th>\n      <th>Sales</th>\n      <th>Quantity</th>\n    </tr>\n  </thead>\n  <tbody>\n    <tr>\n      <th>1814</th>\n      <td>170.136</td>\n      <td>3</td>\n    </tr>\n    <tr>\n      <th>881</th>\n      <td>30.840</td>\n      <td>2</td>\n    </tr>\n    <tr>\n      <th>1122</th>\n      <td>22.960</td>\n      <td>7</td>\n    </tr>\n    <tr>\n      <th>6807</th>\n      <td>98.376</td>\n      <td>3</td>\n    </tr>\n    <tr>\n      <th>2911</th>\n      <td>41.400</td>\n      <td>5</td>\n    </tr>\n  </tbody>\n</table>\n</div>",
            "text/plain": "        Sales  Quantity\n1814  170.136         3\n881    30.840         2\n1122   22.960         7\n6807   98.376         3\n2911   41.400         5"
          },
          "metadata": {}
        }
      ]
    },
    {
      "metadata": {
        "trusted": true
      },
      "cell_type": "code",
      "source": "y_train.head()",
      "execution_count": 12,
      "outputs": [
        {
          "output_type": "execute_result",
          "execution_count": 12,
          "data": {
            "text/plain": "1963     11.7030\n9348    202.2528\n8795     15.8376\n9389      0.9588\n5090      3.1842\nName: Profit, dtype: float64"
          },
          "metadata": {}
        }
      ]
    },
    {
      "metadata": {
        "trusted": true
      },
      "cell_type": "code",
      "source": "y_test.head()",
      "execution_count": 13,
      "outputs": [
        {
          "output_type": "execute_result",
          "execution_count": 13,
          "data": {
            "text/plain": "1814    -8.5068\n881      8.3268\n1122     6.6584\n6807    35.6613\n2911    19.4580\nName: Profit, dtype: float64"
          },
          "metadata": {}
        }
      ]
    },
    {
      "metadata": {
        "trusted": true
      },
      "cell_type": "code",
      "source": "lm = linear_model.LinearRegression()\nmodel = lm.fit(X,y)",
      "execution_count": 14,
      "outputs": []
    },
    {
      "metadata": {
        "trusted": true
      },
      "cell_type": "code",
      "source": "model",
      "execution_count": 15,
      "outputs": [
        {
          "output_type": "execute_result",
          "execution_count": 15,
          "data": {
            "text/plain": "LinearRegression(copy_X=True, fit_intercept=True, n_jobs=None,\n         normalize=False)"
          },
          "metadata": {}
        }
      ]
    },
    {
      "metadata": {
        "trusted": true
      },
      "cell_type": "code",
      "source": "predictions = model.predict(X)\nprint('Predicted Sales Response', predictions[0:5])",
      "execution_count": 16,
      "outputs": [
        {
          "output_type": "stream",
          "text": "Predicted Sales Response [ 40.39095509 122.84075052  -4.72912791 157.43270621  -3.31572772]\n",
          "name": "stdout"
        }
      ]
    },
    {
      "metadata": {
        "trusted": true
      },
      "cell_type": "code",
      "source": "r_sq = model.score(X, y)\nprint('coefficient of determination:', r_sq)",
      "execution_count": 17,
      "outputs": [
        {
          "output_type": "stream",
          "text": "coefficient of determination: 0.23043674154534877\n",
          "name": "stdout"
        }
      ]
    },
    {
      "metadata": {
        "trusted": true
      },
      "cell_type": "code",
      "source": "print('Model Score',model.score(X,y) * 100, '%')",
      "execution_count": 18,
      "outputs": [
        {
          "output_type": "stream",
          "text": "Model Score 23.043674154534877 %\n",
          "name": "stdout"
        }
      ]
    },
    {
      "metadata": {
        "trusted": true
      },
      "cell_type": "code",
      "source": "print('Model Coefficient', model.coef_ ) ",
      "execution_count": 19,
      "outputs": [
        {
          "output_type": "stream",
          "text": "Model Coefficient [ 0.18242129 -3.28456458]\n",
          "name": "stdout"
        }
      ]
    },
    {
      "metadata": {
        "trusted": true
      },
      "cell_type": "code",
      "source": "print('Model Intercept', lm.intercept_)",
      "execution_count": 20,
      "outputs": [
        {
          "output_type": "stream",
          "text": "Model Intercept -0.8269980771046122\n",
          "name": "stdout"
        }
      ]
    },
    {
      "metadata": {
        "trusted": true
      },
      "cell_type": "code",
      "source": "print('Intercept', model.intercept_)\npd.DataFrame(data = model.coef_, index = X_train.columns, columns = ['coef'])",
      "execution_count": 21,
      "outputs": [
        {
          "output_type": "stream",
          "text": "Intercept -0.8269980771046122\n",
          "name": "stdout"
        },
        {
          "output_type": "execute_result",
          "execution_count": 21,
          "data": {
            "text/html": "<div>\n<style scoped>\n    .dataframe tbody tr th:only-of-type {\n        vertical-align: middle;\n    }\n\n    .dataframe tbody tr th {\n        vertical-align: top;\n    }\n\n    .dataframe thead th {\n        text-align: right;\n    }\n</style>\n<table border=\"1\" class=\"dataframe\">\n  <thead>\n    <tr style=\"text-align: right;\">\n      <th></th>\n      <th>coef</th>\n    </tr>\n  </thead>\n  <tbody>\n    <tr>\n      <th>Sales</th>\n      <td>0.182421</td>\n    </tr>\n    <tr>\n      <th>Quantity</th>\n      <td>-3.284565</td>\n    </tr>\n  </tbody>\n</table>\n</div>",
            "text/plain": "              coef\nSales     0.182421\nQuantity -3.284565"
          },
          "metadata": {}
        }
      ]
    },
    {
      "metadata": {},
      "cell_type": "markdown",
      "source": "Increase in Sales can lead to an increase in profit\nHowever, and increase in quantity does not yield an increase in profits"
    },
    {
      "metadata": {},
      "cell_type": "markdown",
      "source": "### Test the RMSE"
    },
    {
      "metadata": {
        "trusted": true
      },
      "cell_type": "code",
      "source": "y_pred = model.predict(X_test)\ntest_rmse = np.sqrt(mean_squared_error(y_test, y_pred))\n\nprint('Test RMSE: %f' % test_rmse)",
      "execution_count": 22,
      "outputs": [
        {
          "output_type": "stream",
          "text": "Test RMSE: 228.691322\n",
          "name": "stdout"
        }
      ]
    },
    {
      "metadata": {},
      "cell_type": "markdown",
      "source": "This value means that on average, the error in the predicted median sale price is approximately $593.65"
    },
    {
      "metadata": {
        "trusted": true
      },
      "cell_type": "code",
      "source": "",
      "execution_count": null,
      "outputs": []
    },
    {
      "metadata": {
        "trusted": true
      },
      "cell_type": "code",
      "source": "",
      "execution_count": null,
      "outputs": []
    },
    {
      "metadata": {},
      "cell_type": "markdown",
      "source": "## Decision Tree Classifier"
    },
    {
      "metadata": {},
      "cell_type": "markdown",
      "source": "#### Feature Selection"
    },
    {
      "metadata": {
        "trusted": true
      },
      "cell_type": "code",
      "source": "feature = data[['Quantity']]\ntarget = data['Sales']",
      "execution_count": 23,
      "outputs": []
    },
    {
      "metadata": {
        "trusted": true
      },
      "cell_type": "code",
      "source": "X = feature\ny = target\n",
      "execution_count": 24,
      "outputs": []
    },
    {
      "metadata": {},
      "cell_type": "markdown",
      "source": "#### Split the Data"
    },
    {
      "metadata": {
        "trusted": true
      },
      "cell_type": "code",
      "source": "X_train, X_test, y_train, y_test = train_test_split(X, y, test_size=0.3, random_state=1)",
      "execution_count": 25,
      "outputs": []
    },
    {
      "metadata": {
        "trusted": true
      },
      "cell_type": "code",
      "source": "print('Training data size: (%i,%i)' % X_train.shape)\nprint('Testing data size: (%i,%i)' % X_test.shape)",
      "execution_count": 26,
      "outputs": [
        {
          "output_type": "stream",
          "text": "Training data size: (6995,1)\nTesting data size: (2999,1)\n",
          "name": "stdout"
        }
      ]
    },
    {
      "metadata": {
        "trusted": true
      },
      "cell_type": "code",
      "source": "X_train.head()",
      "execution_count": 27,
      "outputs": [
        {
          "output_type": "execute_result",
          "execution_count": 27,
          "data": {
            "text/html": "<div>\n<style scoped>\n    .dataframe tbody tr th:only-of-type {\n        vertical-align: middle;\n    }\n\n    .dataframe tbody tr th {\n        vertical-align: top;\n    }\n\n    .dataframe thead th {\n        text-align: right;\n    }\n</style>\n<table border=\"1\" class=\"dataframe\">\n  <thead>\n    <tr style=\"text-align: right;\">\n      <th></th>\n      <th>Quantity</th>\n    </tr>\n  </thead>\n  <tbody>\n    <tr>\n      <th>1963</th>\n      <td>5</td>\n    </tr>\n    <tr>\n      <th>9348</th>\n      <td>8</td>\n    </tr>\n    <tr>\n      <th>8795</th>\n      <td>4</td>\n    </tr>\n    <tr>\n      <th>9389</th>\n      <td>1</td>\n    </tr>\n    <tr>\n      <th>5090</th>\n      <td>1</td>\n    </tr>\n  </tbody>\n</table>\n</div>",
            "text/plain": "      Quantity\n1963         5\n9348         8\n8795         4\n9389         1\n5090         1"
          },
          "metadata": {}
        }
      ]
    },
    {
      "metadata": {
        "trusted": true
      },
      "cell_type": "code",
      "source": "X_test.head()",
      "execution_count": 28,
      "outputs": [
        {
          "output_type": "execute_result",
          "execution_count": 28,
          "data": {
            "text/html": "<div>\n<style scoped>\n    .dataframe tbody tr th:only-of-type {\n        vertical-align: middle;\n    }\n\n    .dataframe tbody tr th {\n        vertical-align: top;\n    }\n\n    .dataframe thead th {\n        text-align: right;\n    }\n</style>\n<table border=\"1\" class=\"dataframe\">\n  <thead>\n    <tr style=\"text-align: right;\">\n      <th></th>\n      <th>Quantity</th>\n    </tr>\n  </thead>\n  <tbody>\n    <tr>\n      <th>1814</th>\n      <td>3</td>\n    </tr>\n    <tr>\n      <th>881</th>\n      <td>2</td>\n    </tr>\n    <tr>\n      <th>1122</th>\n      <td>7</td>\n    </tr>\n    <tr>\n      <th>6807</th>\n      <td>3</td>\n    </tr>\n    <tr>\n      <th>2911</th>\n      <td>5</td>\n    </tr>\n  </tbody>\n</table>\n</div>",
            "text/plain": "      Quantity\n1814         3\n881          2\n1122         7\n6807         3\n2911         5"
          },
          "metadata": {}
        }
      ]
    },
    {
      "metadata": {
        "trusted": true
      },
      "cell_type": "code",
      "source": "y_train.head()",
      "execution_count": 29,
      "outputs": [
        {
          "output_type": "execute_result",
          "execution_count": 29,
          "data": {
            "text/plain": "1963     24.900\n9348    842.720\n8795    211.168\n9389      2.040\n5090      8.784\nName: Sales, dtype: float64"
          },
          "metadata": {}
        }
      ]
    },
    {
      "metadata": {
        "trusted": true
      },
      "cell_type": "code",
      "source": "y_test.head()",
      "execution_count": 30,
      "outputs": [
        {
          "output_type": "execute_result",
          "execution_count": 30,
          "data": {
            "text/plain": "1814    170.136\n881      30.840\n1122     22.960\n6807     98.376\n2911     41.400\nName: Sales, dtype: float64"
          },
          "metadata": {}
        }
      ]
    },
    {
      "metadata": {
        "trusted": true
      },
      "cell_type": "code",
      "source": "train_test_split",
      "execution_count": 31,
      "outputs": [
        {
          "output_type": "execute_result",
          "execution_count": 31,
          "data": {
            "text/plain": "<function sklearn.model_selection._split.train_test_split(*arrays, **options)>"
          },
          "metadata": {}
        }
      ]
    },
    {
      "metadata": {
        "trusted": true
      },
      "cell_type": "code",
      "source": "",
      "execution_count": null,
      "outputs": []
    },
    {
      "metadata": {
        "trusted": true
      },
      "cell_type": "code",
      "source": "",
      "execution_count": null,
      "outputs": []
    },
    {
      "metadata": {
        "trusted": true
      },
      "cell_type": "code",
      "source": "",
      "execution_count": null,
      "outputs": []
    },
    {
      "metadata": {},
      "cell_type": "markdown",
      "source": "#### Build the Decision Tree Model"
    },
    {
      "metadata": {
        "trusted": true
      },
      "cell_type": "code",
      "source": "lab_enc = preprocessing.LabelEncoder()\nnew_y_train = lab_enc.fit_transform(y_train)\nprint(new_y_train)\nprint(utils.multiclass.type_of_target(y_train))\nprint(utils.multiclass.type_of_target(y_train.astype('int')))\nprint(utils.multiclass.type_of_target(new_y_train))",
      "execution_count": 32,
      "outputs": [
        {
          "output_type": "stream",
          "text": "[1278 4386 3326 ...  755 3886 4203]\ncontinuous\nmulticlass\nmulticlass\n",
          "name": "stdout"
        }
      ]
    },
    {
      "metadata": {
        "trusted": true
      },
      "cell_type": "code",
      "source": "# Create Decision Tree classifer object\nclf = DecisionTreeClassifier()\n\n# Train Decision Tree Classifer\nclf = clf.fit(X_train,new_y_train)\n\n#Predict the response for test dataset\ny_pred = clf.predict(X_test)",
      "execution_count": 33,
      "outputs": []
    },
    {
      "metadata": {
        "trusted": true
      },
      "cell_type": "code",
      "source": "# Model Accuracy, how often is the classifier correct?\nprint(\"Accuracy:\", metrics.accuracy_score(y_test, y_train))",
      "execution_count": 34,
      "outputs": [
        {
          "output_type": "error",
          "ename": "ValueError",
          "evalue": "Found input variables with inconsistent numbers of samples: [2999, 6995]",
          "traceback": [
            "\u001b[0;31m---------------------------------------------------------------------------\u001b[0m",
            "\u001b[0;31mValueError\u001b[0m                                Traceback (most recent call last)",
            "\u001b[0;32m<ipython-input-34-a5ea385d872a>\u001b[0m in \u001b[0;36m<module>\u001b[0;34m\u001b[0m\n\u001b[1;32m      1\u001b[0m \u001b[0;31m# Model Accuracy, how often is the classifier correct?\u001b[0m\u001b[0;34m\u001b[0m\u001b[0;34m\u001b[0m\u001b[0m\n\u001b[0;32m----> 2\u001b[0;31m \u001b[0mprint\u001b[0m\u001b[0;34m(\u001b[0m\u001b[0;34m\"Accuracy:\"\u001b[0m\u001b[0;34m,\u001b[0m \u001b[0mmetrics\u001b[0m\u001b[0;34m.\u001b[0m\u001b[0maccuracy_score\u001b[0m\u001b[0;34m(\u001b[0m\u001b[0my_test\u001b[0m\u001b[0;34m,\u001b[0m \u001b[0my_train\u001b[0m\u001b[0;34m)\u001b[0m\u001b[0;34m)\u001b[0m\u001b[0;34m\u001b[0m\u001b[0m\n\u001b[0m",
            "\u001b[0;32m~/anaconda3_501/lib/python3.6/site-packages/sklearn/metrics/classification.py\u001b[0m in \u001b[0;36maccuracy_score\u001b[0;34m(y_true, y_pred, normalize, sample_weight)\u001b[0m\n\u001b[1;32m    174\u001b[0m \u001b[0;34m\u001b[0m\u001b[0m\n\u001b[1;32m    175\u001b[0m     \u001b[0;31m# Compute accuracy for each possible representation\u001b[0m\u001b[0;34m\u001b[0m\u001b[0;34m\u001b[0m\u001b[0m\n\u001b[0;32m--> 176\u001b[0;31m     \u001b[0my_type\u001b[0m\u001b[0;34m,\u001b[0m \u001b[0my_true\u001b[0m\u001b[0;34m,\u001b[0m \u001b[0my_pred\u001b[0m \u001b[0;34m=\u001b[0m \u001b[0m_check_targets\u001b[0m\u001b[0;34m(\u001b[0m\u001b[0my_true\u001b[0m\u001b[0;34m,\u001b[0m \u001b[0my_pred\u001b[0m\u001b[0;34m)\u001b[0m\u001b[0;34m\u001b[0m\u001b[0m\n\u001b[0m\u001b[1;32m    177\u001b[0m     \u001b[0mcheck_consistent_length\u001b[0m\u001b[0;34m(\u001b[0m\u001b[0my_true\u001b[0m\u001b[0;34m,\u001b[0m \u001b[0my_pred\u001b[0m\u001b[0;34m,\u001b[0m \u001b[0msample_weight\u001b[0m\u001b[0;34m)\u001b[0m\u001b[0;34m\u001b[0m\u001b[0m\n\u001b[1;32m    178\u001b[0m     \u001b[0;32mif\u001b[0m \u001b[0my_type\u001b[0m\u001b[0;34m.\u001b[0m\u001b[0mstartswith\u001b[0m\u001b[0;34m(\u001b[0m\u001b[0;34m'multilabel'\u001b[0m\u001b[0;34m)\u001b[0m\u001b[0;34m:\u001b[0m\u001b[0;34m\u001b[0m\u001b[0m\n",
            "\u001b[0;32m~/anaconda3_501/lib/python3.6/site-packages/sklearn/metrics/classification.py\u001b[0m in \u001b[0;36m_check_targets\u001b[0;34m(y_true, y_pred)\u001b[0m\n\u001b[1;32m     69\u001b[0m     \u001b[0my_pred\u001b[0m \u001b[0;34m:\u001b[0m \u001b[0marray\u001b[0m \u001b[0;32mor\u001b[0m \u001b[0mindicator\u001b[0m \u001b[0mmatrix\u001b[0m\u001b[0;34m\u001b[0m\u001b[0m\n\u001b[1;32m     70\u001b[0m     \"\"\"\n\u001b[0;32m---> 71\u001b[0;31m     \u001b[0mcheck_consistent_length\u001b[0m\u001b[0;34m(\u001b[0m\u001b[0my_true\u001b[0m\u001b[0;34m,\u001b[0m \u001b[0my_pred\u001b[0m\u001b[0;34m)\u001b[0m\u001b[0;34m\u001b[0m\u001b[0m\n\u001b[0m\u001b[1;32m     72\u001b[0m     \u001b[0mtype_true\u001b[0m \u001b[0;34m=\u001b[0m \u001b[0mtype_of_target\u001b[0m\u001b[0;34m(\u001b[0m\u001b[0my_true\u001b[0m\u001b[0;34m)\u001b[0m\u001b[0;34m\u001b[0m\u001b[0m\n\u001b[1;32m     73\u001b[0m     \u001b[0mtype_pred\u001b[0m \u001b[0;34m=\u001b[0m \u001b[0mtype_of_target\u001b[0m\u001b[0;34m(\u001b[0m\u001b[0my_pred\u001b[0m\u001b[0;34m)\u001b[0m\u001b[0;34m\u001b[0m\u001b[0m\n",
            "\u001b[0;32m~/anaconda3_501/lib/python3.6/site-packages/sklearn/utils/validation.py\u001b[0m in \u001b[0;36mcheck_consistent_length\u001b[0;34m(*arrays)\u001b[0m\n\u001b[1;32m    233\u001b[0m     \u001b[0;32mif\u001b[0m \u001b[0mlen\u001b[0m\u001b[0;34m(\u001b[0m\u001b[0muniques\u001b[0m\u001b[0;34m)\u001b[0m \u001b[0;34m>\u001b[0m \u001b[0;36m1\u001b[0m\u001b[0;34m:\u001b[0m\u001b[0;34m\u001b[0m\u001b[0m\n\u001b[1;32m    234\u001b[0m         raise ValueError(\"Found input variables with inconsistent numbers of\"\n\u001b[0;32m--> 235\u001b[0;31m                          \" samples: %r\" % [int(l) for l in lengths])\n\u001b[0m\u001b[1;32m    236\u001b[0m \u001b[0;34m\u001b[0m\u001b[0m\n\u001b[1;32m    237\u001b[0m \u001b[0;34m\u001b[0m\u001b[0m\n",
            "\u001b[0;31mValueError\u001b[0m: Found input variables with inconsistent numbers of samples: [2999, 6995]"
          ]
        }
      ]
    },
    {
      "metadata": {},
      "cell_type": "markdown",
      "source": "### Visualize Decision Tree"
    },
    {
      "metadata": {
        "trusted": true
      },
      "cell_type": "code",
      "source": "",
      "execution_count": null,
      "outputs": []
    },
    {
      "metadata": {},
      "cell_type": "markdown",
      "source": "### Scaling the Features"
    },
    {
      "metadata": {
        "trusted": true,
        "scrolled": true
      },
      "cell_type": "code",
      "source": "scaler = StandardScaler()\nX_train = scaler.fit_transform(X_train)\nX_test = scaler.transform(X_test)",
      "execution_count": 35,
      "outputs": [
        {
          "output_type": "stream",
          "text": "/home/nbuser/anaconda3_501/lib/python3.6/site-packages/sklearn/preprocessing/data.py:645: DataConversionWarning: Data with input dtype int64 were all converted to float64 by StandardScaler.\n  return self.partial_fit(X, y)\n/home/nbuser/anaconda3_501/lib/python3.6/site-packages/sklearn/base.py:464: DataConversionWarning: Data with input dtype int64 were all converted to float64 by StandardScaler.\n  return self.fit(X, **fit_params).transform(X)\n/home/nbuser/anaconda3_501/lib/python3.6/site-packages/ipykernel/__main__.py:3: DataConversionWarning: Data with input dtype int64 were all converted to float64 by StandardScaler.\n  app.launch_new_instance()\n",
          "name": "stderr"
        }
      ]
    },
    {
      "metadata": {
        "trusted": true
      },
      "cell_type": "code",
      "source": "print('Training set mean by feature:')\nprint(X_train.mean(axis=0))\nprint('Training set standard deviation by feature:')\nprint(X_train.std(axis=0))",
      "execution_count": 36,
      "outputs": [
        {
          "output_type": "stream",
          "text": "Training set mean by feature:\n[-5.48524771e-17]\nTraining set standard deviation by feature:\n[1.]\n",
          "name": "stdout"
        }
      ]
    },
    {
      "metadata": {
        "trusted": true
      },
      "cell_type": "code",
      "source": "print('Training set mean by feature:')\nprint(X_train.mean())\nprint('Training set standard deviation by feature:')\nprint(X_train.std())",
      "execution_count": 37,
      "outputs": [
        {
          "output_type": "stream",
          "text": "Training set mean by feature:\n-5.48524770994216e-17\nTraining set standard deviation by feature:\n1.0\n",
          "name": "stdout"
        }
      ]
    },
    {
      "metadata": {},
      "cell_type": "markdown",
      "source": "#### Data by segment profit and sales"
    },
    {
      "metadata": {
        "trusted": true
      },
      "cell_type": "code",
      "source": "data_SegmentProfit = data.groupby('Segment').agg({'Profit':'sum'})\ndata_SegmentProfit",
      "execution_count": 38,
      "outputs": [
        {
          "output_type": "execute_result",
          "execution_count": 38,
          "data": {
            "text/html": "<div>\n<style scoped>\n    .dataframe tbody tr th:only-of-type {\n        vertical-align: middle;\n    }\n\n    .dataframe tbody tr th {\n        vertical-align: top;\n    }\n\n    .dataframe thead th {\n        text-align: right;\n    }\n</style>\n<table border=\"1\" class=\"dataframe\">\n  <thead>\n    <tr style=\"text-align: right;\">\n      <th></th>\n      <th>Profit</th>\n    </tr>\n    <tr>\n      <th>Segment</th>\n      <th></th>\n    </tr>\n  </thead>\n  <tbody>\n    <tr>\n      <th>Consumer</th>\n      <td>134119.2092</td>\n    </tr>\n    <tr>\n      <th>Corporate</th>\n      <td>91979.1340</td>\n    </tr>\n    <tr>\n      <th>Home Office</th>\n      <td>60298.6785</td>\n    </tr>\n  </tbody>\n</table>\n</div>",
            "text/plain": "                  Profit\nSegment                 \nConsumer     134119.2092\nCorporate     91979.1340\nHome Office   60298.6785"
          },
          "metadata": {}
        }
      ]
    },
    {
      "metadata": {
        "trusted": true
      },
      "cell_type": "code",
      "source": "data_SegmentSales = data.groupby('Segment').agg({'Sales':'mean'})\ndata_SegmentSales",
      "execution_count": 39,
      "outputs": [
        {
          "output_type": "execute_result",
          "execution_count": 39,
          "data": {
            "text/html": "<div>\n<style scoped>\n    .dataframe tbody tr th:only-of-type {\n        vertical-align: middle;\n    }\n\n    .dataframe tbody tr th {\n        vertical-align: top;\n    }\n\n    .dataframe thead th {\n        text-align: right;\n    }\n</style>\n<table border=\"1\" class=\"dataframe\">\n  <thead>\n    <tr style=\"text-align: right;\">\n      <th></th>\n      <th>Sales</th>\n    </tr>\n    <tr>\n      <th>Segment</th>\n      <th></th>\n    </tr>\n  </thead>\n  <tbody>\n    <tr>\n      <th>Consumer</th>\n      <td>223.733644</td>\n    </tr>\n    <tr>\n      <th>Corporate</th>\n      <td>233.823300</td>\n    </tr>\n    <tr>\n      <th>Home Office</th>\n      <td>240.972041</td>\n    </tr>\n  </tbody>\n</table>\n</div>",
            "text/plain": "                  Sales\nSegment                \nConsumer     223.733644\nCorporate    233.823300\nHome Office  240.972041"
          },
          "metadata": {}
        }
      ]
    },
    {
      "metadata": {
        "trusted": true
      },
      "cell_type": "code",
      "source": "data_SegmentSales = data.groupby('Segment').agg({'Sales':'median'})\ndata_SegmentSales",
      "execution_count": 40,
      "outputs": [
        {
          "output_type": "execute_result",
          "execution_count": 40,
          "data": {
            "text/html": "<div>\n<style scoped>\n    .dataframe tbody tr th:only-of-type {\n        vertical-align: middle;\n    }\n\n    .dataframe tbody tr th {\n        vertical-align: top;\n    }\n\n    .dataframe thead th {\n        text-align: right;\n    }\n</style>\n<table border=\"1\" class=\"dataframe\">\n  <thead>\n    <tr style=\"text-align: right;\">\n      <th></th>\n      <th>Sales</th>\n    </tr>\n    <tr>\n      <th>Segment</th>\n      <th></th>\n    </tr>\n  </thead>\n  <tbody>\n    <tr>\n      <th>Consumer</th>\n      <td>53.72</td>\n    </tr>\n    <tr>\n      <th>Corporate</th>\n      <td>56.54</td>\n    </tr>\n    <tr>\n      <th>Home Office</th>\n      <td>52.44</td>\n    </tr>\n  </tbody>\n</table>\n</div>",
            "text/plain": "             Sales\nSegment           \nConsumer     53.72\nCorporate    56.54\nHome Office  52.44"
          },
          "metadata": {}
        }
      ]
    },
    {
      "metadata": {
        "trusted": true
      },
      "cell_type": "code",
      "source": "data_SegmentSales = data.groupby('Segment').agg({'Sales':'sum'})\ndata_SegmentSales",
      "execution_count": 41,
      "outputs": [
        {
          "output_type": "execute_result",
          "execution_count": 41,
          "data": {
            "text/html": "<div>\n<style scoped>\n    .dataframe tbody tr th:only-of-type {\n        vertical-align: middle;\n    }\n\n    .dataframe tbody tr th {\n        vertical-align: top;\n    }\n\n    .dataframe thead th {\n        text-align: right;\n    }\n</style>\n<table border=\"1\" class=\"dataframe\">\n  <thead>\n    <tr style=\"text-align: right;\">\n      <th></th>\n      <th>Sales</th>\n    </tr>\n    <tr>\n      <th>Segment</th>\n      <th></th>\n    </tr>\n  </thead>\n  <tbody>\n    <tr>\n      <th>Consumer</th>\n      <td>1.161401e+06</td>\n    </tr>\n    <tr>\n      <th>Corporate</th>\n      <td>7.061464e+05</td>\n    </tr>\n    <tr>\n      <th>Home Office</th>\n      <td>4.296531e+05</td>\n    </tr>\n  </tbody>\n</table>\n</div>",
            "text/plain": "                    Sales\nSegment                  \nConsumer     1.161401e+06\nCorporate    7.061464e+05\nHome Office  4.296531e+05"
          },
          "metadata": {}
        }
      ]
    },
    {
      "metadata": {
        "trusted": true
      },
      "cell_type": "code",
      "source": "plt.plot(data_SegmentProfit)",
      "execution_count": 42,
      "outputs": [
        {
          "output_type": "execute_result",
          "execution_count": 42,
          "data": {
            "text/plain": "[<matplotlib.lines.Line2D at 0x7fc489e92f98>]"
          },
          "metadata": {}
        },
        {
          "output_type": "display_data",
          "data": {
            "image/png": "[encoded data removed]",
            "text/plain": "<Figure size 432x288 with 1 Axes>"
          },
          "metadata": {
            "needs_background": "light"
          }
        }
      ]
    },
    {
      "metadata": {
        "trusted": true
      },
      "cell_type": "code",
      "source": "sns.pairplot(data_SegmentProfit)",
      "execution_count": 43,
      "outputs": [
        {
          "output_type": "execute_result",
          "execution_count": 43,
          "data": {
            "text/plain": "<seaborn.axisgrid.PairGrid at 0x7fc48a7a4588>"
          },
          "metadata": {}
        },
        {
          "output_type": "display_data",
          "data": {
            "image/png": "[encoded data removed]",
            "text/plain": "<Figure size 180x180 with 2 Axes>"
          },
          "metadata": {
            "needs_background": "light"
          }
        }
      ]
    },
    {
      "metadata": {
        "trusted": true
      },
      "cell_type": "code",
      "source": "sns.distplot(data_SegmentProfit)",
      "execution_count": 44,
      "outputs": [
        {
          "output_type": "stream",
          "text": "/home/nbuser/anaconda3_501/lib/python3.6/site-packages/scipy/stats/stats.py:1713: FutureWarning: Using a non-tuple sequence for multidimensional indexing is deprecated; use `arr[tuple(seq)]` instead of `arr[seq]`. In the future this will be interpreted as an array index, `arr[np.array(seq)]`, which will result either in an error or a different result.\n  return np.add.reduce(sorted[indexer] * weights, axis=axis) / sumval\n",
          "name": "stderr"
        },
        {
          "output_type": "execute_result",
          "execution_count": 44,
          "data": {
            "text/plain": "<matplotlib.axes._subplots.AxesSubplot at 0x7fc48a336668>"
          },
          "metadata": {}
        },
        {
          "output_type": "display_data",
          "data": {
            "image/png": "[encoded data removed]",
            "text/plain": "<Figure size 432x288 with 1 Axes>"
          },
          "metadata": {
            "needs_background": "light"
          }
        }
      ]
    },
    {
      "metadata": {},
      "cell_type": "markdown",
      "source": "#### Plot data and Linear regression model fit"
    },
    {
      "metadata": {
        "trusted": true
      },
      "cell_type": "code",
      "source": "sns.regplot(x = 'Sales', y = 'Profit', data = data)",
      "execution_count": 45,
      "outputs": [
        {
          "output_type": "execute_result",
          "execution_count": 45,
          "data": {
            "text/plain": "<matplotlib.axes._subplots.AxesSubplot at 0x7fc48a3d9b38>"
          },
          "metadata": {}
        },
        {
          "output_type": "display_data",
          "data": {
            "image/png": "[encoded data removed]",
            "text/plain": "<Figure size 432x288 with 1 Axes>"
          },
          "metadata": {
            "needs_background": "light"
          }
        }
      ]
    },
    {
      "metadata": {},
      "cell_type": "markdown",
      "source": "#### Plot data and regression model fits across a FacetGrid"
    },
    {
      "metadata": {
        "trusted": true
      },
      "cell_type": "code",
      "source": "sns.lmplot(x = 'Sales', y = 'Profit', data = data)",
      "execution_count": 46,
      "outputs": [
        {
          "output_type": "execute_result",
          "execution_count": 46,
          "data": {
            "text/plain": "<seaborn.axisgrid.FacetGrid at 0x7fc48a3bf160>"
          },
          "metadata": {}
        },
        {
          "output_type": "display_data",
          "data": {
            "image/png": "[encoded data removed]",
            "text/plain": "<Figure size 360x360 with 1 Axes>"
          },
          "metadata": {
            "needs_background": "light"
          }
        }
      ]
    },
    {
      "metadata": {},
      "cell_type": "markdown",
      "source": "#### Plot the residuals of a linear regression.\n"
    },
    {
      "metadata": {
        "trusted": true
      },
      "cell_type": "code",
      "source": "sns.residplot(x = 'Sales', y = 'Profit', data = data)",
      "execution_count": 47,
      "outputs": [
        {
          "output_type": "execute_result",
          "execution_count": 47,
          "data": {
            "text/plain": "<matplotlib.axes._subplots.AxesSubplot at 0x7fc48a325080>"
          },
          "metadata": {}
        },
        {
          "output_type": "display_data",
          "data": {
            "image/png": "[encoded data removed]",
            "text/plain": "<Figure size 432x288 with 1 Axes>"
          },
          "metadata": {
            "needs_background": "light"
          }
        }
      ]
    },
    {
      "metadata": {
        "trusted": true
      },
      "cell_type": "code",
      "source": "",
      "execution_count": null,
      "outputs": []
    },
    {
      "metadata": {
        "trusted": true
      },
      "cell_type": "code",
      "source": "",
      "execution_count": null,
      "outputs": []
    }
  ],
  "metadata": {
    "kernelspec": {
      "name": "python36",
      "display_name": "Python 3.6",
      "language": "python"
    },
    "language_info": {
      "mimetype": "text/x-python",
      "nbconvert_exporter": "python",
      "name": "python",
      "pygments_lexer": "ipython3",
      "version": "3.6.6",
      "file_extension": ".py",
      "codemirror_mode": {
        "version": 3,
        "name": "ipython"
      }
    }
  },
  "nbformat": 4,
  "nbformat_minor": 2
}